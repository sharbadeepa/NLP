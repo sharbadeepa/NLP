{
 "cells": [
  {
   "cell_type": "code",
   "execution_count": 14,
   "id": "7c42847a",
   "metadata": {},
   "outputs": [
    {
     "name": "stdout",
     "output_type": "stream",
     "text": [
      "Title:  \n",
      "This is the best title!\n",
      "\n",
      "This test article uses old school formatting\n",
      "rather than css.\n",
      "\n",
      "\n",
      "Title:  \n",
      "\n",
      "\n",
      "This is a paragraph.\n",
      "This is another paragraph.\n",
      "\n",
      "\n",
      "\n",
      "Title:  \n",
      "\n",
      "\n",
      "The title Attribute\n",
      "\n",
      "Mouse over this paragraph, to display the title attribute as a tooltip.\n",
      "\n",
      "\n",
      "\n",
      "\n"
     ]
    }
   ],
   "source": [
    "# First sum -HTML Processing\n",
    "import re\n",
    "pattern = re.compile('<.*?>')\n",
    "def cleanhtml(raw_html):\n",
    "    cleantext = re.sub(pattern, '', raw_html)\n",
    "    if cleantext:\n",
    "        print(\"Title: \",cleantext)\n",
    "        \n",
    "\n",
    "cleanhtml('''<html>\n",
    "<title>This is the best title!</title>\n",
    "<body>\n",
    "This <i>test</i> article uses <b>old school</b> formatting\n",
    "rather than <font color=\"red\">css.</font>\n",
    "</body>\n",
    "</html>''') \n",
    "cleanhtml('''<html>\n",
    "<body>\n",
    "\n",
    "<p>This is a paragraph.</p>\n",
    "<p>This is another paragraph.</p>\n",
    "\n",
    "</body>\n",
    "</html>''')\n",
    "cleanhtml('''<html>\n",
    "<body>\n",
    "\n",
    "<h2 title=\"I'm a header\">The title Attribute</h2>\n",
    "\n",
    "<p title=\"I'm a tooltip\">Mouse over this paragraph, to display the title attribute as a tooltip.</p>\n",
    "\n",
    "</body>\n",
    "</html>\n",
    "''')\n",
    "\n",
    "\n",
    "\n"
   ]
  },
  {
   "cell_type": "code",
   "execution_count": null,
   "id": "45a875a7",
   "metadata": {},
   "outputs": [],
   "source": [
    "\n"
   ]
  },
  {
   "cell_type": "code",
   "execution_count": 3,
   "id": "fab94dff",
   "metadata": {},
   "outputs": [
    {
     "name": "stdout",
     "output_type": "stream",
     "text": [
      "Requirement already satisfied: PyPDF2 in ./jupyterenv/lib/python3.8/site-packages (1.26.0)\n",
      "Note: you may need to restart the kernel to use updated packages.\n"
     ]
    }
   ],
   "source": [
    "pip install PyPDF2\n"
   ]
  },
  {
   "cell_type": "code",
   "execution_count": 61,
   "id": "fef9f96e",
   "metadata": {},
   "outputs": [
    {
     "name": "stdout",
     "output_type": "stream",
     "text": [
      "Aerospace control Air traffic control \n",
      "Attitude control Ground support \n",
      "Aerospace engineering \n",
      "Aerospace biophysics \n",
      "Aerospace electronics \n",
      "Aerospace safety \n",
      "Air safety \n",
      "Aerospace simulation \n",
      "\n",
      "Aerospace testing \n",
      "Satellites \n",
      "Artificial satellites \n",
      "Earth Observing System \n",
      "Low earth orbit satellites \n",
      "\n",
      "Moon Space stations \n",
      "Space technology \n",
      "Space exploration \n",
      "Aerospace materials \n",
      "Aerospace components \n",
      "Aircraft manufacture Aircraft navigation Aircraft propulsion Propellers \n",
      "Command and control systems Electronic warfare Electronic co\n",
      "untermeasures Jamming \n",
      "Radar countermeasures \n",
      "\n",
      "Military equipment \n",
      "Military aircraft Payloads Military satellites \n",
      "Military vehicles \n",
      "\n",
      "Weapons Guns \n",
      "Missiles \n",
      "Nuclear weapons \n",
      "Projectiles \n",
      "Radar Airborne radar \n",
      "Bistatic radar \n",
      "Cognitive radar Doppler radar Ground penetrating radar Laser radar Meteorological radar \n",
      "\n",
      "Millimeter wave radar \n",
      "Multistatic radar \n",
      "MIMO radar \n",
      "Passive radar \n",
      "Radar applications \n",
      "\n",
      "Radar countermeasures Radar detection \n",
      "Radar imaging Radar measurements Radar polarimetry \n",
      "\n",
      "Radar remote sensing Radar tracking Radar clutter \n",
      "Radar cross-sections \n",
      "Radar equipment \n",
      "\n",
      "Radar theory \n",
      "Spaceborne radar \n",
      "Spread spectrum radar \n",
      "Synthetic aperture radar \n",
      "Inverse synthetic aperture radar \n",
      "\n",
      "Polarimetric synthetic aperture \n",
      "radar \n",
      "Ultra wideband radar \n",
      "Sensor systems Activity recognition \n",
      "\n",
      "Gunshot detection systems Sonar \n"
     ]
    }
   ],
   "source": [
    "import PyPDF2\n",
    "pdfFileObj = open('/home/sharbadeepa/Downloads/taxonomy_v101.pdf', 'rb')\n",
    "pdfReader = PyPDF2.PdfFileReader(pdfFileObj)\n",
    " \n",
    "pageObj = pdfReader.getPage(1)\n",
    "pageObj1 = pageObj.extractText()\n",
    "def cleanhtml(raw_html):\n",
    "    cleantext = pageObj1.split('\\n',20)[-1]\n",
    "    regex = re.compile(r'[\\.{4,}]')\n",
    "    pattern = re.sub(regex, '',cleantext)\n",
    "    print(pattern)\n",
    "    \n",
    "    \n",
    "\n",
    "cleanhtml(pageObj1)\n",
    "\n",
    "\n",
    "\n",
    "\n"
   ]
  },
  {
   "cell_type": "code",
   "execution_count": 109,
   "id": "d09cdaba",
   "metadata": {},
   "outputs": [
    {
     "name": "stdout",
     "output_type": "stream",
     "text": [
      "['<html>', '<body>', '', '<h2 title=\"I\\'m a header\">The title Attribute</h2>', '', '<p title=\"I\\'m a tooltip\">Mouse over this paragraph, to display the title attribute as a tooltip.</p>', '', '</body>', '</html>>']\n",
      "kkkkkk <html>\n",
      "S2222 ['<']\n",
      "After Pop []\n",
      "kkkkkk <body>\n",
      "S2222 ['<']\n",
      "After Pop []\n",
      "kkkkkk \n",
      "kkkkkk <h2 title=\"I'm a header\">The title Attribute</h2>\n",
      "S2222 ['<']\n",
      "After Pop []\n",
      "S2222 ['<']\n",
      "After Pop []\n",
      "kkkkkk \n",
      "kkkkkk <p title=\"I'm a tooltip\">Mouse over this paragraph, to display the title attribute as a tooltip.</p>\n",
      "S2222 ['<']\n",
      "After Pop []\n",
      "S2222 ['<']\n",
      "After Pop []\n",
      "kkkkkk \n",
      "kkkkkk </body>\n",
      "S2222 ['<']\n",
      "After Pop []\n",
      "kkkkkk </html>>\n",
      "S2222 ['<']\n",
      "After Pop []\n",
      "False\n"
     ]
    }
   ],
   "source": [
    "class HtmlBlanced:\n",
    "    def __init__(self):\n",
    "        self.items = []\n",
    "    def is_empty(self):\n",
    "        return self.items == []\n",
    "    \n",
    "    def push(self,item):\n",
    "        return self.items.append(item)\n",
    "    def pop(self):\n",
    "        return self.items.pop()\n",
    "\n",
    "    \n",
    "    \n",
    "def HTMLCheck(newfile):\n",
    "    # How to see if << is covered\n",
    "    with open(newfile) as file:\n",
    "        stack = HtmlBlanced()\n",
    "        list1 = list()\n",
    "        for line in file:\n",
    "#             print(line)\n",
    "            line = line.rstrip()\n",
    "            list1.append(line)\n",
    "        print(list1)\n",
    "        index = 0\n",
    "        while index < len(list1):\n",
    "            print(\"kkkkkk\", list1[index])\n",
    "            for ch in list1[index]:\n",
    "                if ch == '</':\n",
    "                    stack.push(ch)\n",
    "                    print(\"S2222\",(stack.items))\n",
    "                if ch == '>':\n",
    "                    if stack.is_empty():\n",
    "                        return False\n",
    "                    else:\n",
    "                        stack.pop()\n",
    "                        print(\"After Pop\", (stack.items))\n",
    "#                 if ch == '</':\n",
    "#                     stack.push(ch)\n",
    "#                 if ch == '>':\n",
    "#                     if stack.is_empty():\n",
    "#                         return False\n",
    "#                     else:\n",
    "#                         stack.pop()\n",
    "\n",
    "                    \n",
    "                \n",
    "            index += 1\n",
    "\n",
    "        return stack.is_empty()\n",
    "\n",
    "\n",
    "print(HTMLCheck('/home/sharbadeepa/qus2.html'))\n",
    "\n"
   ]
  },
  {
   "cell_type": "code",
   "execution_count": 2,
   "id": "2e9c6c51",
   "metadata": {},
   "outputs": [],
   "source": [
    "text='''<html>\n",
    "<title>This is the best title!</title>\n",
    "<body>\n",
    "This <i>test</i> article uses <b>old school</b> formatting\n",
    "rather than <font color=\"red\">css.</font>\n",
    "</body>\n",
    "</html>'''"
   ]
  },
  {
   "cell_type": "code",
   "execution_count": 10,
   "id": "abfec72d",
   "metadata": {},
   "outputs": [],
   "source": [
    "import re\n",
    "pattern = re.compile('<.*?>')\n",
    "def cleanhtml(raw_html):\n",
    "    cleantext = re.sub(pattern, '', raw_html)\n",
    "#     print(cleantext)\n",
    "    if cleantext:\n",
    "        print(\"Title: \",cleantext)"
   ]
  },
  {
   "cell_type": "code",
   "execution_count": 11,
   "id": "7a1d830f",
   "metadata": {},
   "outputs": [
    {
     "name": "stdout",
     "output_type": "stream",
     "text": [
      "Title \n",
      "This is the best title!\n",
      "\n",
      "This test article uses old school formatting\n",
      "rather than css.\n",
      "\n",
      "\n"
     ]
    }
   ],
   "source": [
    "cleanhtml('''<html>\n",
    "<title>This is the best title!</title>\n",
    "<body>\n",
    "This <i>test</i> article uses <b>old school</b> formatting\n",
    "rather than <font color=\"red\">css.</font>\n",
    "</body>\n",
    "</html>''')"
   ]
  },
  {
   "cell_type": "code",
   "execution_count": 9,
   "id": "83e015d7",
   "metadata": {},
   "outputs": [
    {
     "ename": "NameError",
     "evalue": "name 'cleantext' is not defined",
     "output_type": "error",
     "traceback": [
      "\u001b[0;31m---------------------------------------------------------------------------\u001b[0m",
      "\u001b[0;31mNameError\u001b[0m                                 Traceback (most recent call last)",
      "\u001b[0;32m/tmp/ipykernel_4168/695377006.py\u001b[0m in \u001b[0;36m<module>\u001b[0;34m\u001b[0m\n\u001b[0;32m----> 1\u001b[0;31m \u001b[0;32mif\u001b[0m \u001b[0mcleantext\u001b[0m\u001b[0;34m:\u001b[0m\u001b[0;34m\u001b[0m\u001b[0;34m\u001b[0m\u001b[0m\n\u001b[0m\u001b[1;32m      2\u001b[0m     \u001b[0mprint\u001b[0m\u001b[0;34m(\u001b[0m\u001b[0;34m\"Title\"\u001b[0m\u001b[0;34m,\u001b[0m\u001b[0mcleantext\u001b[0m\u001b[0;34m)\u001b[0m\u001b[0;34m\u001b[0m\u001b[0;34m\u001b[0m\u001b[0m\n",
      "\u001b[0;31mNameError\u001b[0m: name 'cleantext' is not defined"
     ]
    }
   ],
   "source": [
    "if cleantext:\n",
    "    print(\"Title\",cleantext)"
   ]
  },
  {
   "cell_type": "code",
   "execution_count": null,
   "id": "100a9eba",
   "metadata": {},
   "outputs": [],
   "source": []
  }
 ],
 "metadata": {
  "kernelspec": {
   "display_name": "Python 3 (ipykernel)",
   "language": "python",
   "name": "python3"
  },
  "language_info": {
   "codemirror_mode": {
    "name": "ipython",
    "version": 3
   },
   "file_extension": ".py",
   "mimetype": "text/x-python",
   "name": "python",
   "nbconvert_exporter": "python",
   "pygments_lexer": "ipython3",
   "version": "3.8.10"
  }
 },
 "nbformat": 4,
 "nbformat_minor": 5
}
