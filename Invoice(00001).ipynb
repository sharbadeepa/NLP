{
 "cells": [
  {
   "cell_type": "code",
   "execution_count": 132,
   "id": "8fd4b335",
   "metadata": {},
   "outputs": [],
   "source": [
    "import cv2 as cv\n",
    "import pytesseract \n",
    "from typing import OrderedDict\n",
    "import matplotlib.pyplot as plt\n",
    "import re\n",
    "import json\n",
    "\n"
   ]
  },
  {
   "cell_type": "code",
   "execution_count": 87,
   "id": "36dbd326",
   "metadata": {},
   "outputs": [
    {
     "data": {
      "text/plain": [
       "<matplotlib.image.AxesImage at 0x7fc268292a90>"
      ]
     },
     "execution_count": 87,
     "metadata": {},
     "output_type": "execute_result"
    },
    {
     "data": {
      "image/png": "[encoded data removed]",
      "text/plain": [
       "<Figure size 432x288 with 1 Axes>"
      ]
     },
     "metadata": {
      "needs_background": "light"
     },
     "output_type": "display_data"
    }
   ],
   "source": [
    "img = cv.imread('invoice-practice1.png')\n",
    "grayscale = cv.cvtColor(img, cv.COLOR_BGR2GRAY)\n",
    "plt.imshow(grayscale)\n",
    "\n",
    "\n"
   ]
  },
  {
   "cell_type": "code",
   "execution_count": 137,
   "id": "214a9d78",
   "metadata": {},
   "outputs": [
    {
     "name": "stdout",
     "output_type": "stream",
     "text": [
      "['Item1 1', 'Item 2', 'Item 3', 'Item 4', 'Item 5', 'Item 6', 'Item 7', 'Item 8']:['$101.00', '$404.00', '$303.00', '$808.00', '$1,010.00', '$1,333.20', '$1,696.80', '$2,100.80']\n",
      "==================== [' 00001']\n"
     ]
    }
   ],
   "source": [
    "image_data = pytesseract.image_to_data(grayscale,output_type=pytesseract.Output.DICT)\n",
    "# print(image_data)\n",
    "# \n",
    "line_num = []\n",
    "text = []\n",
    "final = []\n",
    "for i in image_data['line_num']:\n",
    "    line_num.append(i)\n",
    "for j in image_data['text']:\n",
    "    text.append(j)\n",
    "for k in zip(line_num,text):\n",
    "    if k[0] == 2:\n",
    "        final.append(k[1])\n",
    "    if k[0] == 3:\n",
    "        final.append(k[1])\n",
    "    if k[0] == 4:\n",
    "        final.append(k[1])\n",
    "    if k[0] == 5:\n",
    "        final.append(k[1])\n",
    "    if k[0] == 6:\n",
    "        final.append(k[1])\n",
    "    if k[0] == 7:\n",
    "        final.append(k[1])\n",
    "    if k[0] == 8:\n",
    "        final.append(k[1])\n",
    "    if k[0] == 9:\n",
    "        final.append(k[1])\n",
    "text = \" \".join(final)\n",
    "regex = re.findall(r'I\\w+\\s?\\d', text)\n",
    "regex_invoice = re.findall(r'\\s?\\d{5}', text)\n",
    "regex1 = re.findall(r'%\\s?(\\$\\d.\\d+\\.\\d{2})', text)\n",
    "print(f'{regex}:{regex1}')\n",
    "print(\"====================\",regex_invoice)\n"
   ]
  },
  {
   "cell_type": "code",
   "execution_count": null,
   "id": "7afbba12",
   "metadata": {},
   "outputs": [],
   "source": []
  },
  {
   "cell_type": "code",
   "execution_count": null,
   "id": "27f11333",
   "metadata": {},
   "outputs": [],
   "source": [
    "\n",
    "\n",
    "                        \n",
    "\n",
    "                    \n",
    "                \n",
    "\n",
    "    \n",
    "\n",
    "            \n",
    "    \n",
    "       \n",
    "        \n",
    "\n",
    "    "
   ]
  },
  {
   "cell_type": "code",
   "execution_count": null,
   "id": "df24b1f5",
   "metadata": {},
   "outputs": [],
   "source": []
  }
 ],
 "metadata": {
  "kernelspec": {
   "display_name": "Python 3 (ipykernel)",
   "language": "python",
   "name": "python3"
  },
  "language_info": {
   "codemirror_mode": {
    "name": "ipython",
    "version": 3
   },
   "file_extension": ".py",
   "mimetype": "text/x-python",
   "name": "python",
   "nbconvert_exporter": "python",
   "pygments_lexer": "ipython3",
   "version": "3.8.10"
  }
 },
 "nbformat": 4,
 "nbformat_minor": 5
}
