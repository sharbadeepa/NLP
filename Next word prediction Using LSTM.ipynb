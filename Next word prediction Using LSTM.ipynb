{
 "cells": [
  {
   "cell_type": "code",
   "execution_count": 1,
   "id": "e7ae609e",
   "metadata": {},
   "outputs": [
    {
     "name": "stderr",
     "output_type": "stream",
     "text": [
      "2021-12-15 05:40:24.741740: W tensorflow/stream_executor/platform/default/dso_loader.cc:64] Could not load dynamic library 'libcudart.so.11.0'; dlerror: libcudart.so.11.0: cannot open shared object file: No such file or directory\n",
      "2021-12-15 05:40:24.741768: I tensorflow/stream_executor/cuda/cudart_stub.cc:29] Ignore above cudart dlerror if you do not have a GPU set up on your machine.\n"
     ]
    }
   ],
   "source": [
    "import tensorflow as tf\n",
    "from tensorflow.keras.preprocessing.text import Tokenizer\n",
    "from tensorflow.keras.layers import Embedding, LSTM, Dense\n",
    "from tensorflow.keras.models import Sequential\n",
    "from tensorflow.keras.utils import to_categorical\n",
    "from tensorflow.keras.optimizers import Adam\n",
    "import pickle\n",
    "import numpy as np\n",
    "import os\n"
   ]
  },
  {
   "cell_type": "code",
   "execution_count": 2,
   "id": "b95c3b43",
   "metadata": {},
   "outputs": [
    {
     "data": {
      "text/plain": [
       "113892"
      ]
     },
     "execution_count": 2,
     "metadata": {},
     "output_type": "execute_result"
    }
   ],
   "source": [
    "file = open(\"shakespeare.txt\", \"r\", encoding = \"utf8\")\n",
    "\n",
    "# store file in list\n",
    "lines = []\n",
    "for i in file:\n",
    "    lines.append(i)\n",
    "\n",
    "# Convert list to string\n",
    "data = \"\"\n",
    "for i in lines:\n",
    "  data = ' '. join(lines) \n",
    "\n",
    "data = data.replace('\\n', '').replace('\\r', '').replace('\\ufeff', '').replace('“','').replace('”','')\n",
    "\n",
    "data = data.split()\n",
    "data = ' '.join(data)\n",
    "data[:500]\n",
    "len(data)\n",
    "\n",
    "\n"
   ]
  },
  {
   "cell_type": "code",
   "execution_count": 3,
   "id": "4dfaa0e9",
   "metadata": {},
   "outputs": [
    {
     "data": {
      "text/plain": [
       "[1, 41, 35, 266, 4, 479, 411, 28, 594, 595, 23, 266, 14, 13, 1]"
      ]
     },
     "execution_count": 3,
     "metadata": {},
     "output_type": "execute_result"
    }
   ],
   "source": [
    "tokenizer = Tokenizer()\n",
    "tokenizer.fit_on_texts([data])\n",
    "\n",
    "# saving the tokenizer for predict function\n",
    "pickle.dump(tokenizer, open('token.pkl', 'wb'))\n",
    "\n",
    "sequence_data = tokenizer.texts_to_sequences([data])[0]\n",
    "sequence_data[:15]\n"
   ]
  },
  {
   "cell_type": "code",
   "execution_count": 4,
   "id": "978e5877",
   "metadata": {},
   "outputs": [
    {
     "data": {
      "text/plain": [
       "20984"
      ]
     },
     "execution_count": 4,
     "metadata": {},
     "output_type": "execute_result"
    }
   ],
   "source": [
    "len(sequence_data)\n"
   ]
  },
  {
   "cell_type": "code",
   "execution_count": 5,
   "id": "1d75bf97",
   "metadata": {},
   "outputs": [
    {
     "name": "stdout",
     "output_type": "stream",
     "text": [
      "3856\n"
     ]
    }
   ],
   "source": [
    "vocab_size = len(tokenizer.word_index) + 1\n",
    "print(vocab_size)\n",
    "\n"
   ]
  },
  {
   "cell_type": "code",
   "execution_count": 6,
   "id": "9f2ff56d",
   "metadata": {},
   "outputs": [
    {
     "name": "stdout",
     "output_type": "stream",
     "text": [
      "The Length of sequences are:  20981\n"
     ]
    },
    {
     "data": {
      "text/plain": [
       "array([[  1,  41,  35, 266],\n",
       "       [ 41,  35, 266,   4],\n",
       "       [ 35, 266,   4, 479],\n",
       "       [266,   4, 479, 411],\n",
       "       [  4, 479, 411,  28],\n",
       "       [479, 411,  28, 594],\n",
       "       [411,  28, 594, 595],\n",
       "       [ 28, 594, 595,  23],\n",
       "       [594, 595,  23, 266],\n",
       "       [595,  23, 266,  14]])"
      ]
     },
     "execution_count": 6,
     "metadata": {},
     "output_type": "execute_result"
    }
   ],
   "source": [
    "sequences = []\n",
    "\n",
    "for i in range(3, len(sequence_data)):\n",
    "    words = sequence_data[i-3:i+1]\n",
    "    sequences.append(words)\n",
    "    \n",
    "print(\"The Length of sequences are: \", len(sequences))\n",
    "sequences = np.array(sequences)\n",
    "sequences[:10]\n"
   ]
  },
  {
   "cell_type": "code",
   "execution_count": 7,
   "id": "c6f8adf8",
   "metadata": {},
   "outputs": [
    {
     "name": "stdout",
     "output_type": "stream",
     "text": [
      "Data:  [[  1  41  35]\n",
      " [ 41  35 266]\n",
      " [ 35 266   4]\n",
      " [266   4 479]\n",
      " [  4 479 411]\n",
      " [479 411  28]\n",
      " [411  28 594]\n",
      " [ 28 594 595]\n",
      " [594 595  23]\n",
      " [595  23 266]]\n",
      "Response:  [266   4 479 411  28 594 595  23 266  14]\n"
     ]
    }
   ],
   "source": [
    "X = []\n",
    "y = []\n",
    "\n",
    "for i in sequences:\n",
    "    X.append(i[0:3])\n",
    "    y.append(i[3])\n",
    "    \n",
    "X = np.array(X)\n",
    "y = np.array(y)\n",
    "\n",
    "print(\"Data: \", X[:10])\n",
    "print(\"Response: \", y[:10])\n"
   ]
  },
  {
   "cell_type": "code",
   "execution_count": 8,
   "id": "d69009d5",
   "metadata": {},
   "outputs": [
    {
     "data": {
      "text/plain": [
       "array([[0., 0., 0., ..., 0., 0., 0.],\n",
       "       [0., 0., 0., ..., 0., 0., 0.],\n",
       "       [0., 0., 0., ..., 0., 0., 0.],\n",
       "       [0., 0., 0., ..., 0., 0., 0.],\n",
       "       [0., 0., 0., ..., 0., 0., 0.]], dtype=float32)"
      ]
     },
     "execution_count": 8,
     "metadata": {},
     "output_type": "execute_result"
    }
   ],
   "source": [
    "y = to_categorical(y, num_classes=vocab_size)\n",
    "y[:5]\n"
   ]
  },
  {
   "cell_type": "code",
   "execution_count": 9,
   "id": "bf58d2a6",
   "metadata": {},
   "outputs": [
    {
     "name": "stderr",
     "output_type": "stream",
     "text": [
      "2021-12-15 05:40:27.054987: W tensorflow/stream_executor/platform/default/dso_loader.cc:64] Could not load dynamic library 'libcuda.so.1'; dlerror: libcuda.so.1: cannot open shared object file: No such file or directory\n",
      "2021-12-15 05:40:27.055013: W tensorflow/stream_executor/cuda/cuda_driver.cc:269] failed call to cuInit: UNKNOWN ERROR (303)\n",
      "2021-12-15 05:40:27.055028: I tensorflow/stream_executor/cuda/cuda_diagnostics.cc:156] kernel driver does not appear to be running on this host (IG157): /proc/driver/nvidia/version does not exist\n",
      "2021-12-15 05:40:27.055220: I tensorflow/core/platform/cpu_feature_guard.cc:151] This TensorFlow binary is optimized with oneAPI Deep Neural Network Library (oneDNN) to use the following CPU instructions in performance-critical operations:  AVX2 AVX512F FMA\n",
      "To enable them in other operations, rebuild TensorFlow with the appropriate compiler flags.\n"
     ]
    }
   ],
   "source": [
    "model = Sequential()\n",
    "model.add(Embedding(vocab_size, 10, input_length=3))\n",
    "model.add(LSTM(1000, return_sequences=True))\n",
    "model.add(LSTM(1000))\n",
    "model.add(Dense(1000, activation=\"relu\"))\n",
    "model.add(Dense(vocab_size, activation=\"softmax\"))\n"
   ]
  },
  {
   "cell_type": "code",
   "execution_count": 10,
   "id": "6ce49afd",
   "metadata": {},
   "outputs": [
    {
     "name": "stdout",
     "output_type": "stream",
     "text": [
      "Model: \"sequential\"\n",
      "_________________________________________________________________\n",
      " Layer (type)                Output Shape              Param #   \n",
      "=================================================================\n",
      " embedding (Embedding)       (None, 3, 10)             38560     \n",
      "                                                                 \n",
      " lstm (LSTM)                 (None, 3, 1000)           4044000   \n",
      "                                                                 \n",
      " lstm_1 (LSTM)               (None, 1000)              8004000   \n",
      "                                                                 \n",
      " dense (Dense)               (None, 1000)              1001000   \n",
      "                                                                 \n",
      " dense_1 (Dense)             (None, 3856)              3859856   \n",
      "                                                                 \n",
      "=================================================================\n",
      "Total params: 16,947,416\n",
      "Trainable params: 16,947,416\n",
      "Non-trainable params: 0\n",
      "_________________________________________________________________\n"
     ]
    }
   ],
   "source": [
    "model.summary()\n"
   ]
  },
  {
   "cell_type": "code",
   "execution_count": 11,
   "id": "59d0d862",
   "metadata": {},
   "outputs": [
    {
     "name": "stdout",
     "output_type": "stream",
     "text": [
      "('You must install pydot (`pip install pydot`) and install graphviz (see instructions at https://graphviz.gitlab.io/download/) ', 'for plot_model/model_to_dot to work.')\n"
     ]
    }
   ],
   "source": [
    "from tensorflow import keras\n",
    "from keras.utils.vis_utils import plot_model\n",
    "\n",
    "keras.utils.plot_model(model, to_file='plot.png', show_layer_names=True)\n"
   ]
  },
  {
   "cell_type": "code",
   "execution_count": 12,
   "id": "15df431b",
   "metadata": {},
   "outputs": [
    {
     "name": "stdout",
     "output_type": "stream",
     "text": [
      "Epoch 1/10\n",
      "328/328 [==============================] - ETA: 0s - loss: 6.9221\n",
      "Epoch 00001: loss improved from inf to 6.92209, saving model to next_words.h5\n",
      "328/328 [==============================] - 53s 155ms/step - loss: 6.9221\n",
      "Epoch 2/10\n",
      "328/328 [==============================] - ETA: 0s - loss: 6.5608\n",
      "Epoch 00002: loss improved from 6.92209 to 6.56083, saving model to next_words.h5\n",
      "328/328 [==============================] - 51s 155ms/step - loss: 6.5608\n",
      "Epoch 3/10\n",
      "328/328 [==============================] - ETA: 0s - loss: 6.3461\n",
      "Epoch 00003: loss improved from 6.56083 to 6.34614, saving model to next_words.h5\n",
      "328/328 [==============================] - 50s 154ms/step - loss: 6.3461\n",
      "Epoch 4/10\n",
      "328/328 [==============================] - ETA: 0s - loss: 6.0941\n",
      "Epoch 00004: loss improved from 6.34614 to 6.09415, saving model to next_words.h5\n",
      "328/328 [==============================] - 51s 154ms/step - loss: 6.0941\n",
      "Epoch 5/10\n",
      "328/328 [==============================] - ETA: 0s - loss: 5.8459\n",
      "Epoch 00005: loss improved from 6.09415 to 5.84594, saving model to next_words.h5\n",
      "328/328 [==============================] - 50s 154ms/step - loss: 5.8459\n",
      "Epoch 6/10\n",
      "328/328 [==============================] - ETA: 0s - loss: 5.5937\n",
      "Epoch 00006: loss improved from 5.84594 to 5.59370, saving model to next_words.h5\n",
      "328/328 [==============================] - 51s 154ms/step - loss: 5.5937\n",
      "Epoch 7/10\n",
      "328/328 [==============================] - ETA: 0s - loss: 5.3351\n",
      "Epoch 00007: loss improved from 5.59370 to 5.33513, saving model to next_words.h5\n",
      "328/328 [==============================] - 51s 156ms/step - loss: 5.3351\n",
      "Epoch 8/10\n",
      "328/328 [==============================] - ETA: 0s - loss: 5.0624\n",
      "Epoch 00008: loss improved from 5.33513 to 5.06237, saving model to next_words.h5\n",
      "328/328 [==============================] - 51s 155ms/step - loss: 5.0624\n",
      "Epoch 9/10\n",
      "328/328 [==============================] - ETA: 0s - loss: 4.7784\n",
      "Epoch 00009: loss improved from 5.06237 to 4.77844, saving model to next_words.h5\n",
      "328/328 [==============================] - 51s 156ms/step - loss: 4.7784\n",
      "Epoch 10/10\n",
      "328/328 [==============================] - ETA: 0s - loss: 4.4746\n",
      "Epoch 00010: loss improved from 4.77844 to 4.47464, saving model to next_words.h5\n",
      "328/328 [==============================] - 51s 155ms/step - loss: 4.4746\n"
     ]
    },
    {
     "data": {
      "text/plain": [
       "<keras.callbacks.History at 0x7f8eb74e66d0>"
      ]
     },
     "execution_count": 12,
     "metadata": {},
     "output_type": "execute_result"
    }
   ],
   "source": [
    "from tensorflow.keras.callbacks import ModelCheckpoint\n",
    "\n",
    "checkpoint = ModelCheckpoint(\"next_words.h5\", monitor='loss', verbose=1, save_best_only=True)\n",
    "model.compile(loss=\"categorical_crossentropy\", optimizer=Adam(learning_rate=0.001))\n",
    "model.fit(X, y, epochs=10, batch_size=64, callbacks=[checkpoint])\n"
   ]
  },
  {
   "cell_type": "code",
   "execution_count": 13,
   "id": "4bd03800",
   "metadata": {},
   "outputs": [],
   "source": [
    "from tensorflow.keras.models import load_model\n",
    "import numpy as np\n",
    "import pickle\n",
    "\n",
    "# Load the model and tokenizer\n",
    "model = load_model('next_words.h5')\n",
    "tokenizer = pickle.load(open('token.pkl', 'rb'))\n",
    "\n",
    "def Predict_Next_Words(model, tokenizer, text):\n",
    "\n",
    "  sequence = tokenizer.texts_to_sequences([text])\n",
    "  sequence = np.array(sequence)\n",
    "  preds = np.argmax(model.predict(sequence))\n",
    "  predicted_word = \"\"\n",
    "  \n",
    "  for key, value in tokenizer.word_index.items():\n",
    "      if value == preds:\n",
    "          predicted_word = key\n",
    "          break\n",
    "  \n",
    "  print(predicted_word)\n",
    "  return predicted_word\n"
   ]
  },
  {
   "cell_type": "code",
   "execution_count": null,
   "id": "2569ce45",
   "metadata": {},
   "outputs": [
    {
     "name": "stdout",
     "output_type": "stream",
     "text": [
      "Enter your line: This eBook is for the use of anyone anywhere at no cost and with\n",
      "['cost', 'and', 'with']\n",
      "almost\n"
     ]
    }
   ],
   "source": [
    "while(True):\n",
    "  text = input(\"Enter your line: \")\n",
    "  \n",
    "  if text == \"0\":\n",
    "      print(\"Execution completed.....\")\n",
    "      break\n",
    "  \n",
    "  else:\n",
    "      try:\n",
    "          text = text.split(\" \")\n",
    "          text = text[-3:]\n",
    "          print(text)\n",
    "        \n",
    "          Predict_Next_Words(model, tokenizer, text)\n",
    "          \n",
    "      except Exception as e:\n",
    "        print(\"Error occurred: \",e)\n",
    "        continue\n"
   ]
  },
  {
   "cell_type": "code",
   "execution_count": null,
   "id": "d1584d7c",
   "metadata": {},
   "outputs": [],
   "source": []
  }
 ],
 "metadata": {
  "kernelspec": {
   "display_name": "Python 3 (ipykernel)",
   "language": "python",
   "name": "python3"
  },
  "language_info": {
   "codemirror_mode": {
    "name": "ipython",
    "version": 3
   },
   "file_extension": ".py",
   "mimetype": "text/x-python",
   "name": "python",
   "nbconvert_exporter": "python",
   "pygments_lexer": "ipython3",
   "version": "3.8.10"
  }
 },
 "nbformat": 4,
 "nbformat_minor": 5
}
