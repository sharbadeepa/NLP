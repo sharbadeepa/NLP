{
 "cells": [
  {
   "cell_type": "code",
   "execution_count": 1,
   "id": "bdcc9a68",
   "metadata": {},
   "outputs": [
    {
     "name": "stderr",
     "output_type": "stream",
     "text": [
      "[nltk_data] Downloading package stopwords to\n",
      "[nltk_data]     /home/sharbadeepa/nltk_data...\n",
      "[nltk_data]   Unzipping corpora/stopwords.zip.\n"
     ]
    }
   ],
   "source": [
    "import nltk\n",
    "from nltk.tokenize import sent_tokenize\n",
    "nltk.download('stopwords')\n",
    "from nltk.corpus import stopwords\n",
    "with open('Disease.txt', 'r') as f:\n",
    "    file = f.readlines()\n",
    "    text = \"\".join(file)\n",
    "\n",
    "\n",
    " \n",
    "\n",
    "\n",
    "\n",
    "\n",
    "\n",
    "\n",
    "\n",
    "\n"
   ]
  },
  {
   "cell_type": "code",
   "execution_count": 2,
   "id": "06190488",
   "metadata": {},
   "outputs": [
    {
     "name": "stdout",
     "output_type": "stream",
     "text": [
      "<spacy.pipeline.ner.EntityRecognizer object at 0x7f3919490120>\n",
      "['tok2vec', 'tagger', 'parser', 'attribute_ruler', 'lemmatizer', 'ner']\n"
     ]
    }
   ],
   "source": [
    "import spacy\n",
    "nlp = spacy.load(\"en_core_web_sm\")\n",
    "doc = nlp(text)\n",
    "ner = nlp.get_pipe('ner')\n",
    "print(ner)\n",
    "print(nlp.pipe_names)\n"
   ]
  },
  {
   "cell_type": "markdown",
   "id": "e337fc6b",
   "metadata": {},
   "source": [
    "# Using Regex finding out the index of the diseases"
   ]
  },
  {
   "cell_type": "code",
   "execution_count": 3,
   "id": "2ebf152b",
   "metadata": {
    "scrolled": true
   },
   "outputs": [
    {
     "data": {
      "text/plain": [
       "'g most forms of cancer, heart disease, and genetic disease.\\nAcquired disease\\nAn acquired disease is one that began at some point during one\\'s lifetime, as opposed to disease that was already present at birth, which is congenital disease. Acquired sounds like it could mean \"caught via contagion\", but it simply means acquired sometime after birth. It also sounds like it could imply secondary disease, but acquired disease can be primary disease.\\nAcute disease\\nAn acute disease is one of a short-term nature (acute); the term sometimes also connotes a fulminant nature\\nChronic condition or chronic disease\\nA chronic disease is one that persists over time, often characterized as at least six months but may also include illnesses that are expected to last for the entirety of one\\'s natural life.\\nCongenital disorder or congenital disease\\nA congenital disorder is one that is present at birth. It is often a genetic disease or disorder and can be inherited. It can also be the result of a vertically transmitted infection from the mother, such as HIV/AIDS.\\nGenetic disease\\nA genetic disorder or disease is caused by one or more genetic mutations. It is often inherited, but some mutations are random and de novo.\\nHereditary or inherited disease\\nA hereditary disease is a type of genetic disease caused by genetic mutations that are hereditary (and can run in families)\\nIatrogenic disease\\nAn iatrogenic disease or condition is one that is caused by medical intervention, whether as a side effect of a treatment or as an inadvertent outcome.\\nIdiopathic disease\\nAn idiopathic disease has an unknown cause or source. As medical science has advanced, many diseases with entirely unknown causes have had some aspects of their sources explained and therefore shed their idiopathic status. For example, when germs were discovered, it became known that they were a cause of infection, but particular germs and diseases had not been linked. In another example, it is known that autoimmunity is the cause of some forms of diabetes mellitus type 1, even though the particular molecular pathways by which it works are not yet understood. It is also common to know certain factors are associated with certain diseases; however, association and causality are two very different phenomena, as a third cause might be producing the disease, as well as an associated phenomenon.\\nIncurable disease\\nA disease that cannot be cured. Incurable diseases are not necessarily terminal diseases, and sometimes a disease\\'s symptoms can be treated sufficiently for the disease to have little or no impact on quality of life.\\nPrimary disease\\nA primary disease is a disease that is due to a root cause of illness, as opposed to secondary disease, which is a sequela, or complication that is caused by the primary disease. For example, a common cold is a primary disease, where rhinitis is a possible secondary disease, or sequela. A doctor must determine what primary disease, a cold or bacterial infection, is causing a patient\\'s secondary rhinitis when deciding whether or not to prescribe antibiotics.\\nSecondary disease\\nA secondary disease is a disease that is a sequela or complication of a prior, causal disease, which is referred to as the primary disease or simply the underlying cause (root cause). For example, a bacterial infection can be primary, wherein a healthy person is exposed to bacteria and becomes infected, or it can be secondary to a primary cause, that predisposes the body to infection. For example, a primary viral infection that weakens the immune system could lead to a secondary bacterial infection. Similarly, a primary burn that creates an open wound could provide an entry point for bacteria, and lead to a secondary bacterial infection.\\nTerminal disease\\nA terminal disease is one that is expected to have the inevitable result of death. Previously, AIDS was a terminal disease; it is now incurable, but can be managed indefinitely using medications.\\nIllness\\nThe terms illness and sickness are both generally used as synonyms for disease; however, the term illness is occasionally used to refer specifically to the patient\\'s personal experience of his or her disease.[6][7][8][9] In this model, it is possible for a person to have a disease without being ill (to have an objectively definable, but asymptomatic, medical condition, such as a subclinical infection, or to have a clinically apparent physical impairment but not feel sick or distressed by it), and to be ill without being diseased (such as when a person perceives a normal experience as a medical condition, or medicalizes a non-disease situation in his or her life – for example, a person who feels unwell as a result of embarrassment, and who interprets those feelings as sickness rather than normal emotions). Symptoms of illness are often not directly the result of infection, but a collection of evolved responses – sickness behavior by the body – that helps clear infection and promote recovery. Such aspects of illness can include lethargy, depression, loss of appetite, sleepiness, hyperalgesia, and inability to concentrate.[10][11][12]\\nDisorder\\nA disorder is a functional abnormality or disturbance. Medical disorders can be categorized into mental disorders, physical disorders, genetic disorders, emotional and behavioral disorders, and functional disorders. The term disorder is often considered more value-neutral and less stigmatizing than the terms disease or illness, and therefore is preferred terminology in some circumstances.[13] In mental health, the term mental disorder is used as a way of acknowledging the complex interaction of biological, social, and psychological factors in psychiatric conditions; however, the term disorder is also used in many other areas of medicine, primarily to identify physical disorders that are not caused by infectious organisms, such as metabolic disorders.\\nMedical condition\\nA medical condition is a broad term that includes all diseases, lesions, disorders, or nonpathologic condition that normally receives medical treatment, such as pregnancy or childbirth. While the term medical condition generally includes mental illnesses, in some contexts the term is used specifically to denote any illness, injury, or disease except for mental illnesses. The Diagnostic and Statistical Manual of Mental Disorders (DSM), the widely used psychiatric manual that defines all mental disorders, uses the term general medical condition to refer to all diseases, illnesses, and injuries except for mental disorders.[14] This usage is also commonly seen in the psychiatric literature. Some health insurance policies also define a medical condition as any illness, injury, or disease except for psychiatric illnesses.[15]\\nAs it is more value-neutral than terms like disease, the term medical condition is sometimes preferred by people with health issues that they do not consider deleterious. On the other hand, by emphasizing the medical nature of the condition, this term is sometimes rejected, such as by proponents of the autism rights movement.\\nThe term medical condition is also a synonym for medical state, in which case it describes an individual patient\\'s current state from a medical standpoint. This usage appears in statements that describe a patient as being in critical condition, for example.\\nMorbidity\\nMorbidity (from Latin morbidus \\'sick, unhealthy\\') is a diseased state, disability, or poor health due to any cause.[16] The term may refer to the existence of any form of disease, or to the degree that the health condition affects the patient. Among severely ill patients, the level of morbidity is often measured by ICU scoring systems. Comorbidity is the simultaneous presence of two or more medical conditions, such as schizophrenia and substance abuse.\\nIn epidemiology and actuarial science, the term \"morbidity rate\" can refer to either the incidence rate, or the prevalence of a disease or medical condition. This measure of sickness is contrasted with the mortality rate of a condition, which is the proportion of people dying during a given time interval. Morbidity rates are used in actuarial professions, such as health insurance, life insurance, and long-term care insurance, to determine the correct premiums to charge to customers. Morbidity rates help insurers predict the likelihood that an insured will contract or develop any number of specified diseases.\\nPathosis or pathology\\nPathosis (plural pathoses) is synonymous with disease. The word pathology also has this sense, in which it is commonly used by physicians in the medical literature, although some editors prefer to reserve pathology to its other senses. Sometimes a slight connotative shade causes preference for pathology or pathosis implying \"some [as yet poorly analyzed] pathophysiologic process\" rather than disease implying \"a specific disease entity as defined by diagnostic criteria being already met\". This is hard to quantify denotatively, but it explains why cognitive synonymy is not invariable.\\nSyndrome\\nA syndrome is the association of several signs and symptoms, or other characteristics that often occur together, regardless of whether the cause is known. Some syndromes such as Down syndrome are known to have only one cause (an extra chromosome at birth). Others such as Parkinsonian syndrome are known to have multiple possible causes. Acute coronary syndrome, for example, is not a single disease itself but is rather the manifestation of any of several diseases including myocardial infarction secondary to coronary artery disease. In yet other syndromes, however, the cause is unknown. A familiar syndrome name often remains in use even after an underlying cause has been found or when there are a number of different possible primary causes. Examples of the first-mentioned type are that Turner syndrome and DiGeorge syndrome are still often called by the \"syndrome\" name despite that they can also be viewed as disease entities and not solely as sets of signs and symptoms.\\nPredisease\\nPredisease is a subclinical or prodromal vanguard of a disease. Prediabetes and prehypertension are common examples. The nosology or epistemology of predisease is contentious, though, because there is seldom a bright line differentiating a legitimate concern for subclinical/prodromal/premonitory status (on one hand) and conflict of interest–driven disease mongering or medicalization (on the other hand). Identifying legitimate predisease can result in useful preventive measures, such as motivating the person to get a healthy amount of physical exercise,[17] but labeling a healthy person with an unfounded notion of predisease can result in overtreatment, such as taking drugs that only help people with severe disease or paying for drug prescription instances whose benefit–cost ratio is minuscule (placing it in the waste category of CMS\\' \"waste, fraud, and abuse\" classification). Three requirements for the legitimacy of calling a condition a predisease are:\\na truly high risk for progression to disease – for example, a pre-cancer will almost certainly turn into cancer over time\\nactionability for risk reduction – for example, removal of the precancerous tissue prevents it from turning into a potentially deadly cancer\\nbenefit that outweighs the harm of any interventions taken – removing the precancerous tissue prevents cancer, and thus prevents a potential death from cancer.[18]\\nTypes by body system[edit]\\nMental\\nMental illness is a broad, generic label for a category of illnesses that may include affective or emotional instability, behavioral dysregulation, cognitive dysfunction or impairment. Specific illnesses known as mental illnesses include major depression, generalized anxiety disorders, schizophrenia, and attention deficit hyperactivity disorder, to name a few. Mental illness can be of biological (e.g., anatomical, chemical, or genetic) or psychological (e.g., trauma or conflict) origin. It can impair the affected person\\'s ability to work or study and can harm interpersonal relationships. The term insanity is used technically as a legal term.\\nOrganic\\nAn organic disease is one caused by a physical or physiological change to some tissue or organ of the body. The term sometimes excludes infections. It is commonly used in contrast with mental disorders. It includes emotional and behavioral disorders if they are due to changes to the physical structures or functioning of the body, such as after a stroke or a traumatic brain injury, but not if they are due to psychosocial issues.\\nStages[edit]\\n\"Flareup\" redirects here. For the Transformers character, see Flareup (Transformers).\\nIn an infectious disease, the incubation period is the time between infection and the appearance of symptoms. The latency period is the time between infection and the ability of the disease to spread to another person, which may precede, follow, or be simultaneous with the appearance of symptoms. Some viruses also exhibit a dormant phase, called viral latency, in which the virus hides in the body in an inactive state. For example, varicella zoster virus causes chickenpox in the acute phase; after recovery from chickenpox, the virus may remain dormant in nerve cells for many years, and later cause herpes zoster (shingles).\\n\\nAcute disease\\nAn acute disease is a short-lived disease, like the common cold.\\nChronic disease\\nA chronic disease is one that lasts for a long time, usually at least six months. During that time, it may be constantly present, or it may go into remission and periodically relapse. A chronic disease may be stable (does not get any worse) or it may be progressive (gets worse over time). Some chronic diseases can be permanently cured. Most chronic diseases can be beneficially treated, even if they cannot be permanently cured.\\nClinical disease\\nOne that has clinical consequences; in other words, the stage of the disease that produces the characteristic signs and symptoms of that disease.[19] AIDS is the clinical disease stage of HIV infection.\\nCure\\nA cure is the end of a medical condition or a treatment that is very likely to end it, while remission refers to the disappearance, possibly temporarily, of symptoms. Complete remission is the best possible outcome for incurable diseases.\\nFlare-up\\nA flare-up can refer to either the recurrence of symptoms or an onset of more severe symptoms.[20]\\nSee also: Exacerbation\\nProgressive disease\\nProgressive disease is a disease whose typical natural course is the worsening of the disease until death, serious debility, or organ failure occurs. Slowly progressive diseases are also chronic diseases; many are also degenerative diseases. The opposite of progressive disease is stable disease or static disease: a medical condition that exists, but does not get better or worse.\\nRefractory disease\\nA refractory disease is a disease that resists treatment, especially an individual case that resists treatment more than is normal for the specific disease in question.\\nSubclinical disease\\nAlso called silent disease, silent stage, or asymptomatic disease. This is a stage in some diseases before the symptoms are first noted.[21]\\nTerminal phase\\nIf a person will die soon from a disease, regardless of whether that disease typically causes death, then the stage between the earlier disease process and active dying is the terminal phase.\\nExtent[edit]\\nskin rash on the leg\\nThis rash only affects one part of the body, so it is a localized disease.\\nLocalized disease\\nA localized disease is one that affects only one part of the body, such as athlete\\'s foot or an eye infection.\\nDisseminated disease\\nA disseminated disease has spread to other parts; with cancer, this is usually called metastatic disease.\\nSystemic disease\\nA systemic disease is a disease that affects the entire body, such as influenza or high blood pressure.\\nClassification[edit]\\nMain article: Nosology\\nDiseases may be classified by cause, pathogenesis (mechanism by which the disease is caused), or by symptom(s). Alternatively, diseases may be classified according to the organ system involved, though this is often complicated since many diseases affect more than one organ.\\n\\nA chief difficulty in nosology is that diseases often cannot be defined and classified clearly, especially when cause or pathogenesis are unknown. Thus diagnostic terms often only reflect a symptom or set of symptoms (syndrome).\\n\\nClassical classification of human disease derives from the observational correlation between pathological analysis and clinical syndromes. Today it is preferred to classify them by their cause if it is known.[22]\\n\\nThe most known and used classification of diseases is the World Health Organization\\'s ICD. This is periodically updated. Currently, the last publication is the ICD-11.\\n\\nCauses[edit]\\nSee also: Cause (medicine) and Transmission (medicine)\\nOnly some diseases such as influenza are contagious and commonly believed infectious. The microorganisms that cause these diseases are known as pathogens and include varieties of bacteria, viruses, protozoa, and fungi. Infectious diseases can be transmitted, e.g. by hand-to-mouth contact with infectious material on surfaces, by bites of insects or other carriers of the disease, and from contaminated water or food (often via fecal contamination), etc.[23] Also, there are sexually transmitted diseases. In some cases, microorganisms that are not readily spread from person to person play a role, while other diseases can be prevented or ameliorated with appropriate nutrition or other lifestyle changes.\\n\\nSome diseases, such as most (but not all) forms of cancer, heart disease, and mental disorders, are non-infectious diseases. Many non-infectious diseases have a partly or completely genetic basis (see genetic disorder) and may thus be transmitted from one generation to another.\\n\\nSocial determinants of health are the social conditions in which people live that determine their health. Illnesses are generally related to social, economic, political, and environmental circumstances. Social determinants of health have been recognized by several health organizations such as the Public Health Agency of Canada and the World Health Organization to greatly influence collective and personal well-being. The World Health Organization\\'s Social Determinants Council also recognizes Social determinants of health in poverty.\\n\\nWhen the cause of a disease is poorly understood, societies tend to mythologize the disease or use it as a metaphor or symbol of whatever that culture considers evil. For example, until the bacterial cause of tuberculosis was discovered in 1882, experts variously ascribed the disease to heredity, a sedentary lifestyle, depressed mood, and overindulgence in sex, rich food, or alcohol, all of which were social ills at the time.[24]\\n\\nWhen a disease is caused by a pathogenic organism (e.g., when malaria is caused by Plasmodium), one should not confuse the pathogen (the cause of the disease) with disease itself. For example, West Nile virus (the pathogen) causes West Nile fever (the disease). The misuse of basic definitions in epidemiology is frequent in scientific publications.[25]\\n\\nTypes of causes[edit]\\nA child rides a bicycle. An adult and a child walk a dog along a path in a green park..\\nRegular physical activity, such as riding a bicycle or walking, reduces the risk of lifestyle diseases.\\nAirborne\\nAn airborne disease is any disease that is caused by pathogens and transmitted through the air.\\nFoodborne\\nFoodborne illness or food poisoning is any illness resulting from the consumption of food contaminated with pathogenic bacteria, toxins, viruses, prions or parasites.\\nInfectious\\nInfectious diseases, also known as transmissible diseases or communicable diseases, comprise clinically evident illness (i.e., characteristic medical signs or symptoms of disease) resulting from the infection, presence and growth of pathogenic biological agents in an individual host organism. Included in this category are contagious diseases – an infection, such as influenza or the common cold, that commonly spreads from one person to another – and communicable diseases – a disease that can spread from one person to another, but does not necessarily spread through everyday contact.\\nLifestyle\\nA lifestyle disease is any disease that appears to increase in frequency as countries become more industrialized and people live longer, especially if the risk factors include behavioral choices like a sedentary lifestyle or a diet high in unhealthful foods such as refined carbohydrates, trans fats, or alcoholic beverages.\\nNon-communicable\\nA non-communicable disease is a medical condition or disease that is non-transmissible. Non-communicable diseases cannot be spread directly from one person to another. Heart disease and cancer are examples of non-communicable diseases in humans.\\nPrevention[edit]\\nMain article: Preventive medicine\\nMany diseases and disorders can be prevented through a variety of means. These include sanitation, proper nutrition, adequate exercise, vaccinations and other self-care and public health measures, such as obligatory face mask mandates[citation needed].\\n\\nTreatments[edit]\\nMain article: Therapy\\nMedical therapies or treatments are efforts to cure or improve a disease or other health problems. In the medical field, therapy is synonymous with the word treatment. Among psychologists, the term may refer specifically to psychotherapy or \"talk therapy\". Common treatments include medications, surgery, medical devices, and self-care. Treatments may be provided by an organized health care system, or informally, by the patient or family members.\\n\\nPreventive healthcare is a way to avoid an injury, sickness, or disease in the first place. A treatment or cure is applied after a medical problem has already started. A treatment attempts to improve or remove a problem, but treatments may not produce permanent cures, especially in chronic diseases. Cures are a subset of treatments that reverse diseases completely or end medical problems permanently. Many diseases that cannot be completely cured are still treatable. Pain management (also called pain medicine) is that branch of medicine employing an interdisciplinary approach to the relief of pain and improvement in the quality of life of those living with pain.[26]\\n\\nTreatment for medical emergencies must be provided promptly, often through an emergency department or, in less critical situations, through an urgent care facility.\\n\\nEpidemiology[edit]\\nMain article: Epidemiology\\nEpidemiology is the study of the factors that cause or encourage diseases. Some diseases are more common in certain geographic areas, among people with certain genetic or socioeconomic characteristics, or at different times of the year.\\n\\nEpidemiology is considered a cornerstone methodology of public health research and is highly regarded in evidence-based medicine for identifying risk factors for diseases. In the study of communicable and non-communicable diseases, the work of epidemiologists ranges from outbreak investigation to study design, data collection, and analysis including the development of statistical models to test hypotheses and the documentation of results for submission to peer-reviewed journals. Epidemiologists also study the interaction of diseases in a population, a condition known as a syndemic. Epidemiologists rely on a number of other scientific disciplines such as biology (to better understand disease processes), biostatistics (the current raw information available), Geographic Information Science (to store data and map disease patterns) and social science disciplines (to better understand proximate and distal risk factors). Epidemiology can help identify causes as well as guide prevention efforts.\\n\\nIn studying diseases, epidemiology faces the challenge of defining them. Especially for poorly understood diseases, different groups might use significantly different definitions. Without an agreed-on definition, different researchers may report different numbers of cases and characteristics of the disease.[27]\\n\\nSome morbidity databases are compiled with data supplied by states and territories health authorities, at national levels[28][29] or larger scale (such as European Hospital Morbidity Database (HMDB))[30] which may contain hospital discharge data by detailed diagnosis, age and sex. The European HMDB data was submitted by European countries to the World Health Organization Regional Office for Europe.\\n\\nBurdens of disease[edit]\\nDisease burden is the impact of a health problem in an area measured by financial cost, mortality, morbidity, or other indicators.\\n\\nThere are several measures used to quantify the burden imposed by diseases on people. The years of potential life lost (YPLL) is a simple estimate of the number of years that a person\\'s life was shortened due to a disease. For example, if a person dies at the age of 65 from a disease, and would probably have lived until age 80 without that disease, then that disease has caused a loss of 15 years of potential life. YPLL measurements do not account for how disabled a person is before dying, so the measurement treats a person who dies suddenly and a person who died at the same age after decades of illness as equivalent. In 2004, the World Health Organization calculated that 932 million years of potential life were lost to premature death.[31]\\n\\nThe quality-adjusted life year (QALY) and disability-adjusted life year (DALY) metrics are similar but take into account whether the person was healthy after diagnosis. In addition to the number of years lost due to premature death, these measurements add part of the years lost to being sick. Unlike YPLL, these measurements show the burden imposed on people who are very sick, but who live a normal lifespan. A disease that has high morbidity, but low mortality, has a high DALY and a low YPLL. In 2004, the World Health Organization calculated that 1.5 billion disability-adjusted life years were lost to disease and injury.[31] In the developed world, heart disease and stroke cause the most loss of life, but neuropsychiatric conditions like major depressive disorder cause the most years lost to being sick.\\n\\nDisease category\\tPercent of all YPLLs lost, worldwide[31]\\tPercent of all DALYs lost, worldwide[31]\\tPercent of all YPLLs lost, Europe[31]\\tPercent of all DALYs lost, Europe[31]\\tPercent of all YPLLs lost, US and Canada[31]\\tPercent of all DALYs lost, US and Canada[31]\\nInfectious and parasitic diseases, especially lower respiratory tract infections, diarrhea, AIDS, tuberculosis, and malaria\\t37%\\t26%\\t9%\\t6%\\t5%\\t3%\\nNeuropsychiatric conditions, e.g. depression\\t2%\\t13%\\t3%\\t19%\\t5%\\t28%\\nInjuries, especially motor vehicle accidents\\t14%\\t12%\\t18%\\t13%\\t18%\\t10%\\nCardiovascular diseases, principally heart attacks and stroke\\t14%\\t10%\\t35%\\t23%\\t26%\\t14%\\nPremature birth and other perinatal deaths\\t11%\\t8%\\t4%\\t2%\\t3%\\t2%\\nCancer\\t8%\\t5%\\t19%\\t11%\\t25%\\t13%\\nSociety and culture[edit]\\n\\nObesity was a status symbol in Renaissance culture: \"The Tuscan General Alessandro del Borro\", attributed to Andrea Sacchi, 1645.[32] It is now generally regarded as a disease.\\nHow a society responds to diseases is the subject of medical sociology.\\n\\nA condition may be considered a disease in some cultures or eras but not in others. For example, obesity can represent wealth and abundance, and is a status symbol in famine-prone areas and some places hard-hit by HIV/AIDS.[33] Epilepsy'"
      ]
     },
     "execution_count": 3,
     "metadata": {},
     "output_type": "execute_result"
    }
   ],
   "source": [
    "import spacy\n",
    "from spacy import displacy\n",
    "import re\n",
    "string = text\n",
    "import requests\n",
    "from nltk.corpus import stopwords\n",
    "from bs4 import BeautifulSoup\n",
    "url_link = 'https://www.nhsinform.scot/illnesses-and-conditions/a-to-z#A'\n",
    "request = requests.get(url_link)\n",
    "Soup = BeautifulSoup(request.text, 'lxml')\n",
    "stop_words = set(stopwords.words('english'))\n",
    "diseases = []\n",
    "heading_tags = [\"h1\", \"h2\", \"h3\"]\n",
    "for tags in Soup.find_all(heading_tags):\n",
    "    diseases.append(tags.text.strip())\n",
    "\n",
    "Train_data=[]\n",
    "for disease in diseases:\n",
    "    if disease not in stop_words and len(disease) > 3:\n",
    "        match = re.search(disease, string)\n",
    "        if match:\n",
    "            match_dis = [match.start(), match.end(),'DISEASES']\n",
    "            new = [match.start()]\n",
    "            Train_data.append(tuple(match_dis))\n",
    "Train_data = [(string, {'entities':Train_data})]\n",
    "\n",
    "for _,tags in Train_data:\n",
    "    for ent in tags.get('entities'):\n",
    "        ner.add_label(ent[2])\n",
    "\n",
    "string[3046:30478]"
   ]
  },
  {
   "cell_type": "markdown",
   "id": "4f5ad8c7",
   "metadata": {},
   "source": [
    "# Using Displacy for the visuvalisation"
   ]
  },
  {
   "cell_type": "code",
   "execution_count": null,
   "id": "cbf32a85",
   "metadata": {},
   "outputs": [],
   "source": []
  },
  {
   "cell_type": "code",
   "execution_count": 4,
   "id": "e126420e",
   "metadata": {},
   "outputs": [],
   "source": [
    "import random\n",
    "from spacy.util import minibatch,compounding\n",
    "from spacy.training import Example\n",
    "from spacy.tokens import Span\n"
   ]
  },
  {
   "cell_type": "code",
   "execution_count": 5,
   "id": "498e52f5",
   "metadata": {},
   "outputs": [
    {
     "name": "stdout",
     "output_type": "stream",
     "text": [
      "['tok2vec', 'tagger', 'parser', 'attribute_ruler', 'lemmatizer']\n"
     ]
    }
   ],
   "source": [
    "pipe_exceptions = ['ner', 'trf_wordpiecer', 'tfg_tok2vec']\n",
    "unaffected_pipes = [pipe for pipe in nlp.pipe_names if pipe not in pipe_exceptions]\n",
    "print(unaffected_pipes)\n"
   ]
  },
  {
   "cell_type": "code",
   "execution_count": 6,
   "id": "ac560928",
   "metadata": {},
   "outputs": [
    {
     "name": "stdout",
     "output_type": "stream",
     "text": [
      "losses {'ner': 342.546132594347}\n",
      "losses {'ner': 223.73317213106202}\n",
      "losses {'ner': 134.08578735344418}\n",
      "losses {'ner': 97.57241746829823}\n",
      "losses {'ner': 53.35849000370945}\n",
      "losses {'ner': 45.74790943169501}\n",
      "losses {'ner': 25.802718441917904}\n",
      "losses {'ner': 14.554322024196448}\n",
      "losses {'ner': 13.923905563550342}\n",
      "losses {'ner': 11.215902467145856}\n",
      "losses {'ner': 7.3783691794084785}\n",
      "losses {'ner': 6.851142305999891}\n",
      "losses {'ner': 6.8061492188094315}\n",
      "losses {'ner': 6.701104550163279}\n",
      "losses {'ner': 7.659260383823104}\n",
      "losses {'ner': 8.02782605884586}\n",
      "losses {'ner': 6.166576505481647}\n",
      "losses {'ner': 6.03061375990244}\n",
      "losses {'ner': 5.997632372866976}\n",
      "losses {'ner': 6.897326168533482}\n",
      "losses {'ner': 5.676165911931491}\n",
      "losses {'ner': 5.958266820185315}\n",
      "losses {'ner': 6.016922666647133}\n",
      "losses {'ner': 5.164052106685631}\n",
      "losses {'ner': 6.31843481967735}\n",
      "losses {'ner': 5.032448314286739}\n",
      "losses {'ner': 5.385313273924112}\n",
      "losses {'ner': 5.7497144647986715}\n",
      "losses {'ner': 4.8981866958756655}\n",
      "losses {'ner': 6.503273798731243}\n",
      "losses {'ner': 4.8136179442471985}\n",
      "losses {'ner': 4.895909426287687}\n",
      "losses {'ner': 4.534138967945879}\n",
      "losses {'ner': 4.426109108450817}\n",
      "losses {'ner': 3.8688992916146727}\n",
      "losses {'ner': 6.043473969160889}\n",
      "losses {'ner': 5.130383930686979}\n",
      "losses {'ner': 4.545191692947981}\n",
      "losses {'ner': 4.821298008807087}\n",
      "losses {'ner': 3.5050939600373527}\n",
      "losses {'ner': 4.421609381938074}\n",
      "losses {'ner': 3.4519572390724607}\n",
      "losses {'ner': 3.81695556395961}\n",
      "losses {'ner': 3.0053650131436562}\n",
      "losses {'ner': 3.291253879998166}\n",
      "losses {'ner': 2.88643671901338}\n",
      "losses {'ner': 1.6959706566218582}\n",
      "losses {'ner': 1.8741892308450954}\n",
      "losses {'ner': 1.1445880126955457}\n",
      "losses {'ner': 1.50292344932845}\n",
      "losses {'ner': 2.095349502513205}\n",
      "losses {'ner': 1.8803198689474647}\n",
      "losses {'ner': 1.2152506733541628}\n",
      "losses {'ner': 0.337536554352317}\n",
      "losses {'ner': 0.041201752523115774}\n",
      "losses {'ner': 0.05257970489912012}\n",
      "losses {'ner': 0.20036342844407884}\n",
      "losses {'ner': 0.0991537400378983}\n",
      "losses {'ner': 0.05027222303603636}\n",
      "losses {'ner': 0.12205147664827189}\n",
      "losses {'ner': 0.03822106848568833}\n",
      "losses {'ner': 0.023785642081593332}\n",
      "losses {'ner': 2.0600315748225917}\n",
      "losses {'ner': 0.008234180556996203}\n",
      "losses {'ner': 0.1481267995758062}\n",
      "losses {'ner': 0.013743624150142705}\n",
      "losses {'ner': 0.04751623381611751}\n",
      "losses {'ner': 0.10929269043350218}\n",
      "losses {'ner': 0.0025448347542244864}\n",
      "losses {'ner': 0.013139300288310946}\n",
      "losses {'ner': 0.05736058011567372}\n",
      "losses {'ner': 2.89642572174903e-06}\n",
      "losses {'ner': 0.4856901208330769}\n",
      "losses {'ner': 0.0003697287039745575}\n",
      "losses {'ner': 0.0004071700560420735}\n",
      "losses {'ner': 0.00014755984513621726}\n",
      "losses {'ner': 7.873573173897707e-05}\n",
      "losses {'ner': 3.8122664560664066e-05}\n",
      "losses {'ner': 0.0002966578804077825}\n",
      "losses {'ner': 0.016583489757165965}\n",
      "losses {'ner': 0.31202248764921076}\n",
      "losses {'ner': 0.5161092865880192}\n",
      "losses {'ner': 0.00013355497323423965}\n",
      "losses {'ner': 6.0342784800270075e-06}\n",
      "losses {'ner': 0.0001438324698862421}\n",
      "losses {'ner': 0.00020413630835094523}\n",
      "losses {'ner': 9.201656075956978e-05}\n",
      "losses {'ner': 3.73529101635257e-05}\n",
      "losses {'ner': 0.5239936627589139}\n",
      "losses {'ner': 2.0083400506817763e-07}\n",
      "losses {'ner': 1.1190580224855558e-07}\n",
      "losses {'ner': 5.842757666244477e-06}\n",
      "losses {'ner': 5.5648903039417786e-05}\n",
      "losses {'ner': 0.9543603880530553}\n",
      "losses {'ner': 8.548873948725894e-05}\n",
      "losses {'ner': 0.20376340643802573}\n",
      "losses {'ner': 2.0576256981621757e-06}\n",
      "losses {'ner': 8.012505202526318e-08}\n",
      "losses {'ner': 7.403248688633133e-07}\n",
      "losses {'ner': 0.0003479186773332073}\n"
     ]
    }
   ],
   "source": [
    " with nlp.disable_pipes(*unaffected_pipes):\n",
    "        sizes = compounding(1.0, 4.0, 1.001)\n",
    "        for itn in range(100):\n",
    "\n",
    "            random.shuffle(Train_data)\n",
    "            batches = minibatch(Train_data, size=sizes)\n",
    "            losses = {}\n",
    "\n",
    "            for batch in batches:\n",
    "                for text,annotations in batch:\n",
    "                    doc = nlp.make_doc(text)\n",
    "                    example = Example.from_dict(doc, annotations)\n",
    "                    \n",
    "                    nlp.update([example], drop=0.5, losses=losses)\n",
    "                    print(\"losses\", losses)\n",
    "\n"
   ]
  },
  {
   "cell_type": "code",
   "execution_count": 7,
   "id": "65821012",
   "metadata": {},
   "outputs": [
    {
     "name": "stdout",
     "output_type": "stream",
     "text": [
      "Entities [('Migraine', 'DISEASES'), ('Epilepsy', 'DISEASES')]\n"
     ]
    }
   ],
   "source": [
    "doc = nlp('Scanning Migraine micrograph of Epilepsy, a bacterium that causes tuberculosis')\n",
    "print(\"Entities\", [(ent.text, ent.label_) for ent in doc.ents])"
   ]
  },
  {
   "cell_type": "markdown",
   "id": "6885a184",
   "metadata": {},
   "source": [
    "# Performing Trigrams\n"
   ]
  },
  {
   "cell_type": "code",
   "execution_count": 9,
   "id": "9350a029",
   "metadata": {},
   "outputs": [
    {
     "data": {
      "text/plain": [
       "[]"
      ]
     },
     "execution_count": 9,
     "metadata": {},
     "output_type": "execute_result"
    }
   ],
   "source": []
  },
  {
   "cell_type": "code",
   "execution_count": null,
   "id": "bafc47ac",
   "metadata": {},
   "outputs": [],
   "source": []
  }
 ],
 "metadata": {
  "kernelspec": {
   "display_name": "Python 3 (ipykernel)",
   "language": "python",
   "name": "python3"
  },
  "language_info": {
   "codemirror_mode": {
    "name": "ipython",
    "version": 3
   },
   "file_extension": ".py",
   "mimetype": "text/x-python",
   "name": "python",
   "nbconvert_exporter": "python",
   "pygments_lexer": "ipython3",
   "version": "3.8.10"
  }
 },
 "nbformat": 4,
 "nbformat_minor": 5
}
